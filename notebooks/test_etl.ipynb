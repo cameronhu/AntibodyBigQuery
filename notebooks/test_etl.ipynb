{
 "cells": [
  {
   "cell_type": "markdown",
   "metadata": {},
   "source": [
    "# Testing Notebook for ETL\n",
    "\n",
    "Imports functions from oas_onboarding/etl and tests those functions"
   ]
  },
  {
   "cell_type": "code",
   "execution_count": 2,
   "metadata": {},
   "outputs": [],
   "source": [
    "import sys"
   ]
  },
  {
   "cell_type": "code",
   "execution_count": 6,
   "metadata": {},
   "outputs": [
    {
     "name": "stdout",
     "output_type": "stream",
     "text": [
      "['/home/cameronhu/oas_onboarding/src/etl', '/home/cameronhu/miniforge3/lib/python312.zip', '/home/cameronhu/miniforge3/lib/python3.12', '/home/cameronhu/miniforge3/lib/python3.12/lib-dynload', '', '/home/cameronhu/miniforge3/lib/python3.12/site-packages']\n"
     ]
    }
   ],
   "source": [
    "sys.path.insert(0, '/home/cameronhu/oas_onboarding/src/etl')\n",
    "print(sys.path)"
   ]
  },
  {
   "cell_type": "code",
   "execution_count": 7,
   "metadata": {},
   "outputs": [],
   "source": [
    "from process import *"
   ]
  },
  {
   "cell_type": "code",
   "execution_count": 8,
   "metadata": {},
   "outputs": [],
   "source": [
    "paired_data_file = '/export/share/cameronhu/oas/paired/paired_human/1_S1__1_Paired_All.csv.gz'\n",
    "paired_metadata = parse_metadata(paired_data_file)"
   ]
  },
  {
   "cell_type": "code",
   "execution_count": 9,
   "metadata": {},
   "outputs": [
    {
     "data": {
      "text/plain": [
       "{'Run': '1_S1_',\n",
       " 'Link': 'https://doi.org/10.1038/s41590-022-01230-1',\n",
       " 'Author': 'Phad et al., 2022',\n",
       " 'Species': 'human',\n",
       " 'Age': 'no',\n",
       " 'BSource': 'PBMC',\n",
       " 'BType': 'Plasma-B-Cells',\n",
       " 'Vaccine': 'None',\n",
       " 'Disease': 'None',\n",
       " 'Subject': 'Donor-2',\n",
       " 'Longitudinal': 'Jul-Year-2020',\n",
       " 'Unique sequences': 4668,\n",
       " 'Isotype': 'All',\n",
       " 'Chain': 'Paired'}"
      ]
     },
     "execution_count": 9,
     "metadata": {},
     "output_type": "execute_result"
    }
   ],
   "source": [
    "paired_metadata"
   ]
  },
  {
   "cell_type": "code",
   "execution_count": null,
   "metadata": {},
   "outputs": [],
   "source": []
  }
 ],
 "metadata": {
  "kernelspec": {
   "display_name": "Python 3",
   "language": "python",
   "name": "python3"
  },
  "language_info": {
   "codemirror_mode": {
    "name": "ipython",
    "version": 3
   },
   "file_extension": ".py",
   "mimetype": "text/x-python",
   "name": "python",
   "nbconvert_exporter": "python",
   "pygments_lexer": "ipython3",
   "version": "3.12.5"
  }
 },
 "nbformat": 4,
 "nbformat_minor": 2
}
